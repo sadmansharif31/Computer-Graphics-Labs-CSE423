{
  "cells": [
    {
      "cell_type": "code",
      "execution_count": 58,
      "metadata": {
        "colab": {
          "base_uri": "https://localhost:8080/",
          "height": 621
        },
        "id": "ANi7Wf-hbL9Y",
        "outputId": "6fcb478d-a452-43bb-a326-93c86b22cfda"
      },
      "outputs": [
        {
          "data": {
            "text/html": [
              "<img src=\"data:image/PNG;base64,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\" style=\"image-rendering: pixelated; image-rendering: crisp-edges;\">"
            ],
            "text/plain": [
              "<IPython.core.display.HTML object>"
            ]
          },
          "metadata": {},
          "output_type": "display_data"
        }
      ],
      "source": [
        "# Task-1\n",
        "\n",
        "import math\n",
        "\n",
        "gl.glClear(gl.GL_COLOR_BUFFER_BIT)\n",
        "\n",
        "gl.glPointSize(0.5)\n",
        "\n",
        "def points(x,y,centre):\n",
        "  \n",
        "\n",
        "  gl.glBegin(gl.GL_POINTS)\n",
        "  gl.glColor3f(0,1,0)\n",
        "  gl.glVertex2f(x+centre[0],y+centre[1])\n",
        "  gl.glEnd()\n",
        "\n",
        "  \n",
        "  gl.glBegin(gl.GL_POINTS)\n",
        "  gl.glColor3f(0,1,0)\n",
        "  gl.glVertex2f(y+centre[0],x+centre[1])\n",
        "  gl.glEnd()\n",
        "\n",
        "  \n",
        "  gl.glBegin(gl.GL_POINTS)\n",
        "  gl.glColor3f(0,1,0)\n",
        "  gl.glVertex2f(y+centre[0],-x+centre[1])\n",
        "  gl.glEnd()\n",
        "\n",
        "  \n",
        "  gl.glBegin(gl.GL_POINTS)\n",
        "  gl.glColor3f(0,1,0)\n",
        "  gl.glVertex2f(x+centre[0],-y+centre[1])\n",
        "  gl.glEnd()\n",
        "\n",
        "  \n",
        "  gl.glBegin(gl.GL_POINTS)\n",
        "  gl.glColor3f(0,1,0)\n",
        "  gl.glVertex2f(-x+centre[0],-y+centre[1])\n",
        "  gl.glEnd()\n",
        "\n",
        "  \n",
        "  gl.glBegin(gl.GL_POINTS)\n",
        "  gl.glColor3f(0,1,0)\n",
        "  gl.glVertex2f(-y+centre[0],-x+centre[1])\n",
        "  gl.glEnd()\n",
        "\n",
        "  \n",
        "  gl.glBegin(gl.GL_POINTS)\n",
        "  gl.glColor3f(0,1,0)\n",
        "  gl.glVertex2f(-y+centre[0],x+centre[1])\n",
        "  gl.glEnd()\n",
        "\n",
        "  \n",
        "  gl.glBegin(gl.GL_POINTS)\n",
        "  gl.glColor3f(0,1,0)\n",
        "  gl.glVertex2f(-x+centre[0],y+centre[1])\n",
        "  gl.glEnd()\n",
        "\n",
        "\n",
        "def Mid_Point_Circle(radius,centre):\n",
        "  d=0.001-radius\n",
        "  x=0 \n",
        "  y=radius     \n",
        "  \n",
        "  while x<y:\n",
        "    if d<0:\n",
        "      d+=(2*x+0.003)\n",
        "      x+=0.001\n",
        "    else:\n",
        "      d+=(2*x-2*y+0.005)\n",
        "      y-=0.001\n",
        "      x+=0.001\n",
        "\n",
        "    points(x,y,centre)\n",
        "\n",
        "\n",
        "def output(c,r):\n",
        "  \n",
        "  temp=r/(2*math.sqrt(2))\n",
        "  r_half=r/2\n",
        "\n",
        "  c_x=c[0]\n",
        "  c_y=c[1]\n",
        "  \n",
        "  Mid_Point_Circle(r,c) \n",
        "  \n",
        "\n",
        "  Mid_Point_Circle(r_half,[c_x+temp,c_y-temp])\n",
        "  Mid_Point_Circle(r_half,[c_x-temp,c_y+temp])\n",
        "  Mid_Point_Circle(r_half,[c_x+temp,c_y+temp])\n",
        "  Mid_Point_Circle(r_half,[c_x-temp,c_y-temp])\n",
        "  \n",
        "\n",
        "  Mid_Point_Circle(r_half,[c_x,c_y+r_half])\n",
        "  Mid_Point_Circle(r_half,[c_x,c_y-r_half])\n",
        "  Mid_Point_Circle(r_half,[c_x+r_half,c_y]) \n",
        "  Mid_Point_Circle(r_half,[c_x-r_half,c_y])\n",
        "  \n",
        "\n",
        "output([0,0],0.8)\n",
        "\n",
        "\n",
        "\n",
        "\n",
        "img_buf = gl.glReadPixelsub(0, 0, WIDTH, HEIGHT, gl.GL_RGB, gl.GL_UNSIGNED_BYTE)\n",
        "img = np.frombuffer(img_buf, np.uint8).reshape(HEIGHT, WIDTH, 3)[::-1]\n",
        "show.image(img/255.0)"
      ]
    }
  ],
  "metadata": {
    "accelerator": "GPU",
    "colab": {
      "collapsed_sections": [],
      "name": "Sadman_Sharif_20101107_10.ipynb",
      "provenance": []
    },
    "kernelspec": {
      "display_name": "Python 3",
      "name": "python3"
    },
    "language_info": {
      "name": "python"
    }
  },
  "nbformat": 4,
  "nbformat_minor": 0
}
