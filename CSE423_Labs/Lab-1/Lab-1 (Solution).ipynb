{
  "nbformat": 4,
  "nbformat_minor": 0,
  "metadata": {
    "colab": {
      "name": "CSE423_20101107_Lab-1.ipynb",
      "provenance": [],
      "collapsed_sections": []
    },
    "kernelspec": {
      "name": "python3",
      "display_name": "Python 3"
    },
    "language_info": {
      "name": "python"
    },
    "accelerator": "GPU"
  },
  "cells": [
    {
      "cell_type": "code",
      "source": [
        "!pip install tensorflow==1.15.0"
      ],
      "metadata": {
        "colab": {
          "base_uri": "https://localhost:8080/"
        },
        "id": "L3y0yGFYiWRI",
        "outputId": "f1a71fcd-7527-4709-bada-1eb6a3a142ad"
      },
      "execution_count": null,
      "outputs": [
        {
          "output_type": "stream",
          "name": "stdout",
          "text": [
            "Looking in indexes: https://pypi.org/simple, https://us-python.pkg.dev/colab-wheels/public/simple/\n",
            "Requirement already satisfied: tensorflow==1.15.0 in /usr/local/lib/python3.7/dist-packages (1.15.0)\n",
            "Requirement already satisfied: tensorboard<1.16.0,>=1.15.0 in /usr/local/lib/python3.7/dist-packages (from tensorflow==1.15.0) (1.15.0)\n",
            "Requirement already satisfied: gast==0.2.2 in /usr/local/lib/python3.7/dist-packages (from tensorflow==1.15.0) (0.2.2)\n",
            "Requirement already satisfied: tensorflow-estimator==1.15.1 in /usr/local/lib/python3.7/dist-packages (from tensorflow==1.15.0) (1.15.1)\n",
            "Requirement already satisfied: wrapt>=1.11.1 in /usr/local/lib/python3.7/dist-packages (from tensorflow==1.15.0) (1.14.1)\n",
            "Requirement already satisfied: opt-einsum>=2.3.2 in /usr/local/lib/python3.7/dist-packages (from tensorflow==1.15.0) (3.3.0)\n",
            "Requirement already satisfied: absl-py>=0.7.0 in /usr/local/lib/python3.7/dist-packages (from tensorflow==1.15.0) (1.1.0)\n",
            "Requirement already satisfied: google-pasta>=0.1.6 in /usr/local/lib/python3.7/dist-packages (from tensorflow==1.15.0) (0.2.0)\n",
            "Requirement already satisfied: six>=1.10.0 in /usr/local/lib/python3.7/dist-packages (from tensorflow==1.15.0) (1.15.0)\n",
            "Requirement already satisfied: termcolor>=1.1.0 in /usr/local/lib/python3.7/dist-packages (from tensorflow==1.15.0) (1.1.0)\n",
            "Requirement already satisfied: grpcio>=1.8.6 in /usr/local/lib/python3.7/dist-packages (from tensorflow==1.15.0) (1.46.3)\n",
            "Requirement already satisfied: numpy<2.0,>=1.16.0 in /usr/local/lib/python3.7/dist-packages (from tensorflow==1.15.0) (1.21.6)\n",
            "Requirement already satisfied: wheel>=0.26 in /usr/local/lib/python3.7/dist-packages (from tensorflow==1.15.0) (0.37.1)\n",
            "Requirement already satisfied: astor>=0.6.0 in /usr/local/lib/python3.7/dist-packages (from tensorflow==1.15.0) (0.8.1)\n",
            "Requirement already satisfied: protobuf>=3.6.1 in /usr/local/lib/python3.7/dist-packages (from tensorflow==1.15.0) (3.17.3)\n",
            "Requirement already satisfied: keras-preprocessing>=1.0.5 in /usr/local/lib/python3.7/dist-packages (from tensorflow==1.15.0) (1.1.2)\n",
            "Requirement already satisfied: keras-applications>=1.0.8 in /usr/local/lib/python3.7/dist-packages (from tensorflow==1.15.0) (1.0.8)\n",
            "Requirement already satisfied: h5py in /usr/local/lib/python3.7/dist-packages (from keras-applications>=1.0.8->tensorflow==1.15.0) (3.1.0)\n",
            "Requirement already satisfied: setuptools>=41.0.0 in /usr/local/lib/python3.7/dist-packages (from tensorboard<1.16.0,>=1.15.0->tensorflow==1.15.0) (57.4.0)\n",
            "Requirement already satisfied: markdown>=2.6.8 in /usr/local/lib/python3.7/dist-packages (from tensorboard<1.16.0,>=1.15.0->tensorflow==1.15.0) (3.3.7)\n",
            "Requirement already satisfied: werkzeug>=0.11.15 in /usr/local/lib/python3.7/dist-packages (from tensorboard<1.16.0,>=1.15.0->tensorflow==1.15.0) (1.0.1)\n",
            "Requirement already satisfied: importlib-metadata>=4.4 in /usr/local/lib/python3.7/dist-packages (from markdown>=2.6.8->tensorboard<1.16.0,>=1.15.0->tensorflow==1.15.0) (4.11.4)\n",
            "Requirement already satisfied: typing-extensions>=3.6.4 in /usr/local/lib/python3.7/dist-packages (from importlib-metadata>=4.4->markdown>=2.6.8->tensorboard<1.16.0,>=1.15.0->tensorflow==1.15.0) (4.1.1)\n",
            "Requirement already satisfied: zipp>=0.5 in /usr/local/lib/python3.7/dist-packages (from importlib-metadata>=4.4->markdown>=2.6.8->tensorboard<1.16.0,>=1.15.0->tensorflow==1.15.0) (3.8.0)\n",
            "Requirement already satisfied: cached-property in /usr/local/lib/python3.7/dist-packages (from h5py->keras-applications>=1.0.8->tensorflow==1.15.0) (1.5.2)\n"
          ]
        }
      ]
    },
    {
      "cell_type": "code",
      "source": [
        "!pip install -q lucid>=0.2.3\n",
        "!pip install -q moviepy"
      ],
      "metadata": {
        "id": "YXv13t34XX7o"
      },
      "execution_count": null,
      "outputs": []
    },
    {
      "cell_type": "code",
      "source": [
        "import numpy as np\n",
        "import json\n",
        "import moviepy.editor as mvp\n",
        "from google.colab import files\n",
        "import tensorflow.compat.v1.gfile as gfile\n",
        "import lucid.misc.io.showing as show"
      ],
      "metadata": {
        "id": "MuQfUYd6XYDH"
      },
      "execution_count": null,
      "outputs": []
    },
    {
      "cell_type": "code",
      "source": [
        "from lucid.misc.gl.glcontext import create_opengl_context\n",
        "\n",
        "# Now it's safe to import OpenGL and EGL functions\n",
        "import OpenGL.GL as gl\n",
        "from OpenGL.GLU import *\n",
        "\n",
        "# create_opengl_context() creates GL context that is attached to an\n",
        "# offscreen surface of specified size. Note that rendering to buffers\n",
        "# of different size and format is still possible with OpenGL Framebuffers.\n",
        "#\n",
        "# Users are expected to directly use EGL calls in case more advanced\n",
        "# context management is required.\n",
        "WIDTH, HEIGHT = 800,800\n",
        "create_opengl_context((WIDTH, HEIGHT))\n",
        "    \n",
        "# OpenGL context is available here.\n",
        "\n",
        "print(gl.glGetString(gl.GL_VERSION))\n",
        "print(gl.glGetString(gl.GL_VENDOR)) \n",
        "#print(gl.glGetString(gl.GL_EXTENSIONS))"
      ],
      "metadata": {
        "id": "-dC6f5NBXcNu",
        "colab": {
          "base_uri": "https://localhost:8080/"
        },
        "outputId": "3483bffb-1108-4a3f-c386-57e4c2005fc6"
      },
      "execution_count": null,
      "outputs": [
        {
          "output_type": "stream",
          "name": "stdout",
          "text": [
            "b'4.6.0 NVIDIA 460.32.03'\n",
            "b'NVIDIA Corporation'\n"
          ]
        }
      ]
    },
    {
      "cell_type": "code",
      "source": [
        "# Let's render something!\n",
        "gl.glClear(gl.GL_COLOR_BUFFER_BIT)\n",
        "\n",
        "gl.glPointSize(5)    # point size choto boro kora jabe\n",
        "\n",
        "\n",
        "# Task-1\n",
        "\n",
        "import random\n",
        "\n",
        "gl.glColor3f(0,0,0.5)\n",
        "gl.glBegin(gl.GL_POINTS)  \n",
        "\n",
        "i=0\n",
        "\n",
        "while i<50:\n",
        "  gl.glVertex2f(random.randint(-100,100)/100,random.randint(-100,100)/100)\n",
        "  i+=1\n",
        "\n",
        "gl.glEnd()"
      ],
      "metadata": {
        "id": "ANi7Wf-hbL9Y"
      },
      "execution_count": null,
      "outputs": []
    },
    {
      "cell_type": "code",
      "source": [
        "# Task-2\n",
        "\n",
        "gl.glColor3f(0,0,0.5)\n",
        "gl.glBegin(gl.GL_TRIANGLES)  \n",
        "gl.glVertex2f(-.4,0)\n",
        "gl.glVertex2f(0.4, 0)\n",
        "gl.glVertex2f(0,.6 )\n",
        "gl.glEnd()\n",
        "gl.glBegin(gl.GL_LINES)  \n",
        "gl.glVertex2f(-.4,0)\n",
        "gl.glVertex2f(-0.4,-0.9)\n",
        "gl.glEnd()\n",
        "gl.glBegin(gl.GL_LINES)  \n",
        "gl.glVertex2f(.4,0)\n",
        "gl.glVertex2f(0.4,-0.9)\n",
        "\n",
        "gl.glEnd()\n",
        "gl.glBegin(gl.GL_LINES)  \n",
        "gl.glVertex2f(0.4,-0.9)\n",
        "gl.glVertex2f(-0.4,-0.9)\n",
        "gl.glEnd()\n",
        "gl.glBegin(gl.GL_LINES)     # Door er matha\n",
        "gl.glVertex2f(0.1,-0.6)\n",
        "gl.glVertex2f(-0.1,-0.6)\n",
        "gl.glEnd()\n",
        "gl.glBegin(gl.GL_LINES)     # Door er right side\n",
        "gl.glVertex2f(0.1,-0.6)\n",
        "gl.glVertex2f(0.1,-0.9)\n",
        "gl.glEnd()\n",
        "gl.glBegin(gl.GL_LINES)     # Door er left side\n",
        "gl.glVertex2f(-0.1,-0.6)\n",
        "gl.glVertex2f(-0.1,-0.9)\n",
        "gl.glEnd()\n",
        "gl.glBegin(gl.GL_LINES)     # left janala er up side\n",
        "gl.glVertex2f(-0.3,-0.1)\n",
        "gl.glVertex2f(-0.1,-0.1)\n",
        "gl.glEnd()\n",
        "gl.glBegin(gl.GL_LINES)     # left janala er left side\n",
        "gl.glVertex2f(-0.3,-0.1)\n",
        "gl.glVertex2f(-0.3,-0.3)\n",
        "gl.glEnd()\n",
        "gl.glBegin(gl.GL_LINES)     # left janala er down side \n",
        "gl.glVertex2f(-0.1,-0.3)\n",
        "gl.glVertex2f(-0.3,-0.3)\n",
        "gl.glEnd()\n",
        "gl.glBegin(gl.GL_LINES)     # left janala er right side\n",
        "gl.glVertex2f(-0.1,-0.1)\n",
        "gl.glVertex2f(-0.1,-0.3)\n",
        "gl.glEnd()\n",
        "\n",
        "gl.glBegin(gl.GL_LINES)     # right janala er up side\n",
        "gl.glVertex2f(0.3,-0.1)\n",
        "gl.glVertex2f(0.1,-0.1)\n",
        "gl.glEnd()\n",
        "gl.glBegin(gl.GL_LINES)     # right janala er left side\n",
        "gl.glVertex2f(0.3,-0.1)\n",
        "gl.glVertex2f(0.3,-0.3)\n",
        "gl.glEnd()\n",
        "gl.glBegin(gl.GL_LINES)     # right janala er down side \n",
        "gl.glVertex2f(0.1,-0.3)\n",
        "gl.glVertex2f(0.3,-0.3)\n",
        "gl.glEnd()\n",
        "gl.glBegin(gl.GL_LINES)     # right janala er right side\n",
        "gl.glVertex2f(0.1,-0.1)\n",
        "gl.glVertex2f(0.1,-0.3)\n",
        "gl.glEnd()\n",
        "gl.glBegin(gl.GL_POINTS)     # Door er right side er knob\n",
        "gl.glVertex2f(0.08,-0.8)\n",
        "gl.glEnd()"
      ],
      "metadata": {
        "id": "ak8Bbva4ySaD"
      },
      "execution_count": null,
      "outputs": []
    },
    {
      "cell_type": "code",
      "source": [
        "img_buf = gl.glReadPixelsub(0, 0, WIDTH, HEIGHT, gl.GL_RGB, gl.GL_UNSIGNED_BYTE)\n",
        "img = np.frombuffer(img_buf, np.uint8).reshape(HEIGHT, WIDTH, 3)[::-1]\n",
        "show.image(img/255.0)"
      ],
      "metadata": {
        "colab": {
          "base_uri": "https://localhost:8080/",
          "height": 821
        },
        "id": "e6JCjyDMyE75",
        "outputId": "a8b85093-690c-455d-a424-d747e2653189"
      },
      "execution_count": null,
      "outputs": [
        {
          "output_type": "display_data",
          "data": {
            "text/plain": [
              "<IPython.core.display.HTML object>"
            ],
            "text/html": [
              "<img src=\"data:image/PNG;base64,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\" style=\"image-rendering: pixelated; image-rendering: crisp-edges;\">"
            ]
          },
          "metadata": {}
        }
      ]
    }
  ]
}