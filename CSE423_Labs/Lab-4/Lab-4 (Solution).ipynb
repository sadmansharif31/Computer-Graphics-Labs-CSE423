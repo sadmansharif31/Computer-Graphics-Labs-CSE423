{
  "nbformat": 4,
  "nbformat_minor": 0,
  "metadata": {
    "colab": {
      "name": "Sadman Sharif_20101107_10",
      "provenance": [],
      "collapsed_sections": []
    },
    "kernelspec": {
      "name": "python3",
      "display_name": "Python 3"
    },
    "language_info": {
      "name": "python"
    },
    "accelerator": "GPU"
  },
  "cells": [
    {
      "cell_type": "code",
      "source": [
        "!pip install tensorflow==1.15.0"
      ],
      "metadata": {
        "colab": {
          "base_uri": "https://localhost:8080/"
        },
        "id": "L3y0yGFYiWRI",
        "outputId": "23b545e5-49d8-4641-cbcb-a9442246fb95"
      },
      "execution_count": 2,
      "outputs": [
        {
          "output_type": "stream",
          "name": "stdout",
          "text": [
            "Looking in indexes: https://pypi.org/simple, https://us-python.pkg.dev/colab-wheels/public/simple/\n",
            "Requirement already satisfied: tensorflow==1.15.0 in /usr/local/lib/python3.7/dist-packages (1.15.0)\n",
            "Requirement already satisfied: wrapt>=1.11.1 in /usr/local/lib/python3.7/dist-packages (from tensorflow==1.15.0) (1.14.1)\n",
            "Requirement already satisfied: termcolor>=1.1.0 in /usr/local/lib/python3.7/dist-packages (from tensorflow==1.15.0) (1.1.0)\n",
            "Requirement already satisfied: keras-preprocessing>=1.0.5 in /usr/local/lib/python3.7/dist-packages (from tensorflow==1.15.0) (1.1.2)\n",
            "Requirement already satisfied: grpcio>=1.8.6 in /usr/local/lib/python3.7/dist-packages (from tensorflow==1.15.0) (1.47.0)\n",
            "Requirement already satisfied: numpy<2.0,>=1.16.0 in /usr/local/lib/python3.7/dist-packages (from tensorflow==1.15.0) (1.21.6)\n",
            "Requirement already satisfied: wheel>=0.26 in /usr/local/lib/python3.7/dist-packages (from tensorflow==1.15.0) (0.37.1)\n",
            "Requirement already satisfied: tensorboard<1.16.0,>=1.15.0 in /usr/local/lib/python3.7/dist-packages (from tensorflow==1.15.0) (1.15.0)\n",
            "Requirement already satisfied: absl-py>=0.7.0 in /usr/local/lib/python3.7/dist-packages (from tensorflow==1.15.0) (1.2.0)\n",
            "Requirement already satisfied: six>=1.10.0 in /usr/local/lib/python3.7/dist-packages (from tensorflow==1.15.0) (1.15.0)\n",
            "Requirement already satisfied: gast==0.2.2 in /usr/local/lib/python3.7/dist-packages (from tensorflow==1.15.0) (0.2.2)\n",
            "Requirement already satisfied: google-pasta>=0.1.6 in /usr/local/lib/python3.7/dist-packages (from tensorflow==1.15.0) (0.2.0)\n",
            "Requirement already satisfied: opt-einsum>=2.3.2 in /usr/local/lib/python3.7/dist-packages (from tensorflow==1.15.0) (3.3.0)\n",
            "Requirement already satisfied: protobuf>=3.6.1 in /usr/local/lib/python3.7/dist-packages (from tensorflow==1.15.0) (3.17.3)\n",
            "Requirement already satisfied: tensorflow-estimator==1.15.1 in /usr/local/lib/python3.7/dist-packages (from tensorflow==1.15.0) (1.15.1)\n",
            "Requirement already satisfied: keras-applications>=1.0.8 in /usr/local/lib/python3.7/dist-packages (from tensorflow==1.15.0) (1.0.8)\n",
            "Requirement already satisfied: astor>=0.6.0 in /usr/local/lib/python3.7/dist-packages (from tensorflow==1.15.0) (0.8.1)\n",
            "Requirement already satisfied: h5py in /usr/local/lib/python3.7/dist-packages (from keras-applications>=1.0.8->tensorflow==1.15.0) (3.1.0)\n",
            "Requirement already satisfied: werkzeug>=0.11.15 in /usr/local/lib/python3.7/dist-packages (from tensorboard<1.16.0,>=1.15.0->tensorflow==1.15.0) (1.0.1)\n",
            "Requirement already satisfied: markdown>=2.6.8 in /usr/local/lib/python3.7/dist-packages (from tensorboard<1.16.0,>=1.15.0->tensorflow==1.15.0) (3.4.1)\n",
            "Requirement already satisfied: setuptools>=41.0.0 in /usr/local/lib/python3.7/dist-packages (from tensorboard<1.16.0,>=1.15.0->tensorflow==1.15.0) (57.4.0)\n",
            "Requirement already satisfied: importlib-metadata>=4.4 in /usr/local/lib/python3.7/dist-packages (from markdown>=2.6.8->tensorboard<1.16.0,>=1.15.0->tensorflow==1.15.0) (4.12.0)\n",
            "Requirement already satisfied: zipp>=0.5 in /usr/local/lib/python3.7/dist-packages (from importlib-metadata>=4.4->markdown>=2.6.8->tensorboard<1.16.0,>=1.15.0->tensorflow==1.15.0) (3.8.1)\n",
            "Requirement already satisfied: typing-extensions>=3.6.4 in /usr/local/lib/python3.7/dist-packages (from importlib-metadata>=4.4->markdown>=2.6.8->tensorboard<1.16.0,>=1.15.0->tensorflow==1.15.0) (4.1.1)\n",
            "Requirement already satisfied: cached-property in /usr/local/lib/python3.7/dist-packages (from h5py->keras-applications>=1.0.8->tensorflow==1.15.0) (1.5.2)\n"
          ]
        }
      ]
    },
    {
      "cell_type": "code",
      "source": [
        "!pip install -q lucid>=0.2.3\n",
        "!pip install -q moviepy"
      ],
      "metadata": {
        "id": "YXv13t34XX7o"
      },
      "execution_count": 7,
      "outputs": []
    },
    {
      "cell_type": "code",
      "source": [
        "!pip install imageio==2.4.1"
      ],
      "metadata": {
        "colab": {
          "base_uri": "https://localhost:8080/"
        },
        "id": "Eg1iOrd_FyrX",
        "outputId": "7d913dcd-c361-400c-e6af-ca6896657b00"
      },
      "execution_count": 8,
      "outputs": [
        {
          "output_type": "stream",
          "name": "stdout",
          "text": [
            "Looking in indexes: https://pypi.org/simple, https://us-python.pkg.dev/colab-wheels/public/simple/\n",
            "Requirement already satisfied: imageio==2.4.1 in /usr/local/lib/python3.7/dist-packages (2.4.1)\n",
            "Requirement already satisfied: numpy in /usr/local/lib/python3.7/dist-packages (from imageio==2.4.1) (1.19.0)\n",
            "Requirement already satisfied: pillow in /usr/local/lib/python3.7/dist-packages (from imageio==2.4.1) (7.1.2)\n"
          ]
        }
      ]
    },
    {
      "cell_type": "code",
      "source": [
        "import numpy as np\n",
        "import json\n",
        "import moviepy.editor as mvp\n",
        "from google.colab import files\n",
        "import tensorflow.compat.v1.gfile as gfile\n",
        "import lucid.misc.io.showing as show"
      ],
      "metadata": {
        "id": "MuQfUYd6XYDH"
      },
      "execution_count": 9,
      "outputs": []
    },
    {
      "cell_type": "code",
      "source": [
        "from lucid.misc.gl.glcontext import create_opengl_context\n",
        "\n",
        "\n",
        "import OpenGL.GL as gl\n",
        "from OpenGL.GLU import *\n",
        "\n",
        "\n",
        "WIDTH, HEIGHT = 800,600\n",
        "create_opengl_context((WIDTH, HEIGHT))\n",
        "    \n",
        "\n",
        "\n",
        "print(gl.glGetString(gl.GL_VERSION))\n",
        "print(gl.glGetString(gl.GL_VENDOR)) \n"
      ],
      "metadata": {
        "id": "-dC6f5NBXcNu",
        "colab": {
          "base_uri": "https://localhost:8080/"
        },
        "outputId": "9a389b14-936f-4353-a4e2-941934bcf0c5"
      },
      "execution_count": 10,
      "outputs": [
        {
          "output_type": "stream",
          "name": "stdout",
          "text": [
            "b'4.6.0 NVIDIA 460.32.03'\n",
            "b'NVIDIA Corporation'\n"
          ]
        }
      ]
    },
    {
      "cell_type": "code",
      "source": [
        "# Outcode & Intersection Points\n",
        "\n",
        "\n",
        "def outcode(x,y,x_min,y_min,x_max,y_max):\n",
        "  bit_0=\"0\"\n",
        "  bit_1=\"0\"\n",
        "  bit_2=\"0\"\n",
        "  bit_3=\"0\"\n",
        "\n",
        "  if x<x_min:\n",
        "    bit_0=\"1\"\n",
        "  elif x>x_max:\n",
        "    bit_1=\"1\"\n",
        "  elif y<y_min:\n",
        "    bit_2=\"1\"\n",
        "  elif y>y_max:\n",
        "    bit_3=\"1\"\n",
        "  code = bit_3+bit_2+bit_1+bit_0\n",
        "\n",
        "  return code\n",
        "\n",
        "\n",
        "def andi(x,y):\n",
        "    val = \"\"\n",
        "    p=0\n",
        "    while p<4:\n",
        "    \n",
        "        i=int(x[p])\n",
        "        k=int(y[p])\n",
        "        \n",
        "        if i==0 and k==0:\n",
        "            val+=\"0\"\n",
        "        elif i==1 and k==1:\n",
        "            val+=\"1\"\n",
        "        else:\n",
        "            val+=\"0\"\n",
        "        p+=1\n",
        "    return val\n",
        "\n",
        "def intersection(code,x,y,x_min,y_min,x_max,y_max,m):\n",
        "    \n",
        "    if code[0]==\"1\":\n",
        "      x=x+(1/m)*(y_max-y)\n",
        "      y=y_max\n",
        "      return [x,y]\n",
        "    elif code[1]==\"1\":\n",
        "      x=x+(1/m)*(y_min-y)\n",
        "      y=y_min\n",
        "      return [x,y]\n",
        "\n",
        "    elif code[2]==\"1\":\n",
        "      y=y+m*(x_max - x)\n",
        "      x=x_max\n",
        "      return [x,y]\n",
        "    \n",
        "    elif code[3]==\"1\":\n",
        "      y=y+m*(x_min - x)\n",
        "      x=x_min\n",
        "\n",
        "      return [x,y]"
      ],
      "metadata": {
        "id": "evjH-3l5fE3w"
      },
      "execution_count": 71,
      "outputs": []
    },
    {
      "cell_type": "code",
      "source": [
        "# Midpoint line drawing\n",
        "\n",
        "def findzone(x1,y1,x2,y2):\n",
        "\n",
        "  dx = x2 - x1\n",
        "  dy = y2 - y1\n",
        "  Zone = 0\n",
        "  if abs(dx) >= abs(dy):\n",
        "    if dx > 0 and dy > 0:\n",
        "      Zone = 0\n",
        "    elif dx < 0 and dy > 0:\n",
        "      Zone = 3\n",
        "    elif dx < 0 and dy < 0:\n",
        "      Zone = 4\n",
        "    elif dx > 0 and dy < 0:\n",
        "      Zone = 7\n",
        "  else:\n",
        "    if dx > 0 and dy > 0:\n",
        "      Zone = 1\n",
        "    elif dx < 0 and dy > 0:\n",
        "      Zone = 2\n",
        "    elif dx < 0 and dy < 0:\n",
        "      Zone = 5\n",
        "    elif dx > 0 and dy < 0:\n",
        "      Zone = 6\n",
        "    \n",
        "  return Zone\n",
        "\n",
        "def convertzone0(x,y,temp):\n",
        "\n",
        "  a,b=0,0\n",
        "  if temp== 0:\n",
        "    a,b=x,y\n",
        "  elif temp== 1:\n",
        "    a,b=y,x\n",
        "  elif temp== 2:\n",
        "    a,b=y,-x\n",
        "  elif temp== 3:\n",
        "    a,b=-x,y\n",
        "  elif temp== 4:\n",
        "    a,b=-x,-y\n",
        "  elif temp== 5:\n",
        "    a,b=-y,-x\n",
        "  elif temp== 6:\n",
        "    a,b=-y,x\n",
        "  elif temp== 7:\n",
        "    a,b=x,-y\n",
        "\n",
        "  return a,b\n",
        "\n",
        "\n",
        "\n",
        "def convert_to_original(x,y,temp):\n",
        "\n",
        "  g,h=0,0\n",
        "\n",
        "  if temp== 0:\n",
        "    g,h=x,y\n",
        "  elif temp== 1:\n",
        "    g,h=y,x\n",
        "  elif temp== 2:\n",
        "    g,h=-y,x\n",
        "  elif temp== 3:\n",
        "    g,h=-x,y\n",
        "  elif temp== 4:\n",
        "    g,h=-x,-y\n",
        "  elif temp== 5:\n",
        "    g,h=-y,-x\n",
        "  elif temp== 6:\n",
        "    g,h=-y,x\n",
        "  elif temp== 7:\n",
        "    g,h=x,-y\n",
        "\n",
        "  return g,h\n",
        "\n",
        "def DrawLine(x1,y1,x2,y2,col):\n",
        "  temp=findzone(x1,y1,x2,y2)\n",
        "  \n",
        "  p,q=convertzone0(x1,y1,temp)\n",
        "  m,n=convertzone0(x2,y2,temp)\n",
        "  \n",
        "  dx = m-p\n",
        "  dy = n-q\n",
        "\n",
        "  d=2*dy-dx\n",
        "\n",
        "  incE=2*dy\n",
        "  incNE = 2 * (dy - dx)\n",
        "\n",
        "  y = q\n",
        "  x = p\n",
        "\n",
        "  if dx==0:\n",
        "    \n",
        "    while y<=y2:\n",
        "      c,d=convert_to_original(x,y,temp)\n",
        "      Pixel(c,d,col)\n",
        "      \n",
        "      y+=0.0001\n",
        "\n",
        "  while x<=x2:\n",
        "    r,t=convert_to_original(x,y,temp)\n",
        "    Pixel(r,t,col)\n",
        "\n",
        "    if d>0:\n",
        "      d+=incNE\n",
        "      y+=0.0001\n",
        "    else:\n",
        "      d+=incE\n",
        "\n",
        "    x+=0.0001\n",
        "\n",
        "def Pixel(x,y,color): \n",
        "  gl.glBegin(gl.GL_POINTS)\n",
        "  if color == \"blue\":\n",
        "    gl.glColor3f(0,0,1)\n",
        "  elif color == \"red\":\n",
        "    gl.glColor3f(1,0,0)\n",
        "  elif color == \"green\":\n",
        "    gl.glColor3f(0,1,0)\n",
        " \n",
        "  gl.glVertex2f(x,y)\n",
        "  gl.glEnd()\n"
      ],
      "metadata": {
        "id": "PBkA5F_-EpnF"
      },
      "execution_count": 72,
      "outputs": []
    },
    {
      "cell_type": "code",
      "source": [
        "# Cohen_Sutherland Algorithm\n",
        "\n",
        "gl.glClear(gl.GL_COLOR_BUFFER_BIT)\n",
        "\n",
        "def window(x_min,y_min,x_max,y_max):\n",
        "  gl.glColor3f(.3,.5,.8)\n",
        "  gl.glPointSize(1.3)\n",
        "\n",
        "  gl.glBegin(gl.GL_LINE_LOOP)\n",
        "  gl.glVertex2f(x_min,y_min)\n",
        "  gl.glVertex2f(x_max,y_min)\n",
        "  gl.glVertex2f(x_max,y_max)\n",
        "  gl.glVertex2f(x_min,y_max)\n",
        "  gl.glEnd()\n",
        "\n",
        "\n",
        "def cohen_sutherland(x1,y1,x2,y2,x_min,y_min,x_max,y_max):\n",
        "  window(x_min,y_min,x_max,y_max)\n",
        "\n",
        "  outcode2=outcode(x2,y2,x_min,y_min,x_max,y_max)\n",
        "  outcode1=outcode(x1,y1,x_min,y_min,x_max,y_max)\n",
        "  DrawLine(x1,y1,x2,y2,\"blue\")\n",
        "\n",
        "  while True:\n",
        "    if outcode1 == \"0000\" and outcode2 == \"0000\":\n",
        "      print(x1,y1,x2,y2)\n",
        "      DrawLine(x1,y1,x2,y2,\"green\")\n",
        "      break\n",
        "    elif andi(outcode1,outcode2) != \"0000\":\n",
        "      DrawLine(x1,y1,x2,y2,\"red\")\n",
        "      break\n",
        "    else:\n",
        "      m=(y2-y1)/(x2-x1)\n",
        "      if outcode1 != \"0000\":\n",
        "        \n",
        "        coord1=intersection(outcode1,x1,y1,x_min,y_min,x_max,y_max,m)\n",
        "        x1 = coord1[0]\n",
        "        y1 = coord1[1]\n",
        "        outcode1=outcode(x1,y1,x_min,y_min,x_max,y_max)\n",
        "      else:\n",
        "        coord2=intersection(outcode2,x2,y2,x_min,y_min,x_max,y_max,m)\n",
        "        x2=coord2[0]\n",
        "        y2=coord2[1]\n",
        "        outcode2=outcode(x2,y2,x_min,y_min,x_max,y_max)\n",
        "  \n",
        "cohen_sutherland(-0.6,-0.7,-0.4,-0.4,0,0,0.5,0.5)\n",
        "cohen_sutherland(-0.2,-0.3,0.7,0.6,0,0,0.5,0.5)\n",
        "\n",
        "\n",
        "img_buf = gl.glReadPixelsub(0, 0, WIDTH, HEIGHT, gl.GL_RGB, gl.GL_UNSIGNED_BYTE)\n",
        "img = np.frombuffer(img_buf, np.uint8).reshape(HEIGHT, WIDTH, 3)[::-1]\n",
        "show.image(img/255.0)"
      ],
      "metadata": {
        "id": "Y2YG0OxgJfQD",
        "colab": {
          "base_uri": "https://localhost:8080/",
          "height": 639
        },
        "outputId": "033a1136-0ba9-49aa-b206-d27288234fa4"
      },
      "execution_count": 73,
      "outputs": [
        {
          "output_type": "stream",
          "name": "stdout",
          "text": [
            "0.09999999999999998 0 0.5 0.4\n"
          ]
        },
        {
          "output_type": "display_data",
          "data": {
            "text/plain": [
              "<IPython.core.display.HTML object>"
            ],
            "text/html": [
              "<img src=\"data:image/PNG;base64,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\" style=\"image-rendering: pixelated; image-rendering: crisp-edges;\">"
            ]
          },
          "metadata": {}
        }
      ]
    }
  ]
}