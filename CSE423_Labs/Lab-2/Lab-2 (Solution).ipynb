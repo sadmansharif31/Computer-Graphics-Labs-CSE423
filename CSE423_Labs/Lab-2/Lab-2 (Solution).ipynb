{
  "nbformat": 4,
  "nbformat_minor": 0,
  "metadata": {
    "colab": {
      "name": "Sadman Sharif_20101107_10.ipynb",
      "provenance": [],
      "collapsed_sections": []
    },
    "kernelspec": {
      "name": "python3",
      "display_name": "Python 3"
    },
    "language_info": {
      "name": "python"
    },
    "accelerator": "GPU"
  },
  "cells": [
    {
      "cell_type": "code",
      "source": [
        "!pip install tensorflow==1.15.0"
      ],
      "metadata": {
        "colab": {
          "base_uri": "https://localhost:8080/"
        },
        "id": "L3y0yGFYiWRI",
        "outputId": "3ee9aa12-821e-4db8-d383-037b51b08d53"
      },
      "execution_count": null,
      "outputs": [
        {
          "output_type": "stream",
          "name": "stdout",
          "text": [
            "Looking in indexes: https://pypi.org/simple, https://us-python.pkg.dev/colab-wheels/public/simple/\n",
            "Requirement already satisfied: tensorflow==1.15.0 in /usr/local/lib/python3.7/dist-packages (1.15.0)\n",
            "Requirement already satisfied: termcolor>=1.1.0 in /usr/local/lib/python3.7/dist-packages (from tensorflow==1.15.0) (1.1.0)\n",
            "Requirement already satisfied: grpcio>=1.8.6 in /usr/local/lib/python3.7/dist-packages (from tensorflow==1.15.0) (1.47.0)\n",
            "Requirement already satisfied: absl-py>=0.7.0 in /usr/local/lib/python3.7/dist-packages (from tensorflow==1.15.0) (1.1.0)\n",
            "Requirement already satisfied: wrapt>=1.11.1 in /usr/local/lib/python3.7/dist-packages (from tensorflow==1.15.0) (1.14.1)\n",
            "Requirement already satisfied: gast==0.2.2 in /usr/local/lib/python3.7/dist-packages (from tensorflow==1.15.0) (0.2.2)\n",
            "Requirement already satisfied: numpy<2.0,>=1.16.0 in /usr/local/lib/python3.7/dist-packages (from tensorflow==1.15.0) (1.19.0)\n",
            "Requirement already satisfied: google-pasta>=0.1.6 in /usr/local/lib/python3.7/dist-packages (from tensorflow==1.15.0) (0.2.0)\n",
            "Requirement already satisfied: opt-einsum>=2.3.2 in /usr/local/lib/python3.7/dist-packages (from tensorflow==1.15.0) (3.3.0)\n",
            "Requirement already satisfied: tensorboard<1.16.0,>=1.15.0 in /usr/local/lib/python3.7/dist-packages (from tensorflow==1.15.0) (1.15.0)\n",
            "Requirement already satisfied: astor>=0.6.0 in /usr/local/lib/python3.7/dist-packages (from tensorflow==1.15.0) (0.8.1)\n",
            "Requirement already satisfied: tensorflow-estimator==1.15.1 in /usr/local/lib/python3.7/dist-packages (from tensorflow==1.15.0) (1.15.1)\n",
            "Requirement already satisfied: wheel>=0.26 in /usr/local/lib/python3.7/dist-packages (from tensorflow==1.15.0) (0.37.1)\n",
            "Requirement already satisfied: six>=1.10.0 in /usr/local/lib/python3.7/dist-packages (from tensorflow==1.15.0) (1.15.0)\n",
            "Requirement already satisfied: protobuf>=3.6.1 in /usr/local/lib/python3.7/dist-packages (from tensorflow==1.15.0) (3.17.3)\n",
            "Requirement already satisfied: keras-preprocessing>=1.0.5 in /usr/local/lib/python3.7/dist-packages (from tensorflow==1.15.0) (1.1.2)\n",
            "Requirement already satisfied: keras-applications>=1.0.8 in /usr/local/lib/python3.7/dist-packages (from tensorflow==1.15.0) (1.0.8)\n",
            "Requirement already satisfied: h5py in /usr/local/lib/python3.7/dist-packages (from keras-applications>=1.0.8->tensorflow==1.15.0) (3.1.0)\n",
            "Requirement already satisfied: setuptools>=41.0.0 in /usr/local/lib/python3.7/dist-packages (from tensorboard<1.16.0,>=1.15.0->tensorflow==1.15.0) (57.4.0)\n",
            "Requirement already satisfied: markdown>=2.6.8 in /usr/local/lib/python3.7/dist-packages (from tensorboard<1.16.0,>=1.15.0->tensorflow==1.15.0) (3.3.7)\n",
            "Requirement already satisfied: werkzeug>=0.11.15 in /usr/local/lib/python3.7/dist-packages (from tensorboard<1.16.0,>=1.15.0->tensorflow==1.15.0) (1.0.1)\n",
            "Requirement already satisfied: importlib-metadata>=4.4 in /usr/local/lib/python3.7/dist-packages (from markdown>=2.6.8->tensorboard<1.16.0,>=1.15.0->tensorflow==1.15.0) (4.12.0)\n",
            "Requirement already satisfied: zipp>=0.5 in /usr/local/lib/python3.7/dist-packages (from importlib-metadata>=4.4->markdown>=2.6.8->tensorboard<1.16.0,>=1.15.0->tensorflow==1.15.0) (3.8.0)\n",
            "Requirement already satisfied: typing-extensions>=3.6.4 in /usr/local/lib/python3.7/dist-packages (from importlib-metadata>=4.4->markdown>=2.6.8->tensorboard<1.16.0,>=1.15.0->tensorflow==1.15.0) (4.1.1)\n",
            "Requirement already satisfied: cached-property in /usr/local/lib/python3.7/dist-packages (from h5py->keras-applications>=1.0.8->tensorflow==1.15.0) (1.5.2)\n"
          ]
        }
      ]
    },
    {
      "cell_type": "code",
      "source": [
        "!pip install -q lucid>=0.2.3\n",
        "!pip install -q moviepy"
      ],
      "metadata": {
        "id": "YXv13t34XX7o"
      },
      "execution_count": null,
      "outputs": []
    },
    {
      "cell_type": "code",
      "source": [
        "import numpy as np\n",
        "import json\n",
        "import moviepy.editor as mvp\n",
        "from google.colab import files\n",
        "import tensorflow.compat.v1.gfile as gfile\n",
        "import lucid.misc.io.showing as show"
      ],
      "metadata": {
        "id": "MuQfUYd6XYDH"
      },
      "execution_count": null,
      "outputs": []
    },
    {
      "cell_type": "code",
      "source": [
        "from lucid.misc.gl.glcontext import create_opengl_context\n",
        "\n",
        "# Now it's safe to import OpenGL and EGL functions\n",
        "import OpenGL.GL as gl\n",
        "from OpenGL.GLU import *\n",
        "\n",
        "# create_opengl_context() creates GL context that is attached to an\n",
        "# offscreen surface of specified size. Note that rendering to buffers\n",
        "# of different size and format is still possible with OpenGL Framebuffers.\n",
        "#\n",
        "# Users are expected to directly use EGL calls in case more advanced\n",
        "# context management is required.\n",
        "WIDTH, HEIGHT = 400,400\n",
        "create_opengl_context((WIDTH, HEIGHT))\n",
        "    \n",
        "# OpenGL context is available here.\n",
        "\n",
        "print(gl.glGetString(gl.GL_VERSION))\n",
        "print(gl.glGetString(gl.GL_VENDOR)) \n",
        "#print(gl.glGetString(gl.GL_EXTENSIONS))"
      ],
      "metadata": {
        "id": "-dC6f5NBXcNu",
        "colab": {
          "base_uri": "https://localhost:8080/"
        },
        "outputId": "deca6029-9dbb-45b3-c7e8-bace925e4d6f"
      },
      "execution_count": null,
      "outputs": [
        {
          "output_type": "stream",
          "name": "stdout",
          "text": [
            "b'4.6.0 NVIDIA 460.32.03'\n",
            "b'NVIDIA Corporation'\n"
          ]
        }
      ]
    },
    {
      "cell_type": "code",
      "source": [
        "#Task-1\n",
        "\n",
        "gl.glClear(gl.GL_COLOR_BUFFER_BIT)\n",
        "gl.glPointSize(6)  \n",
        "gl.glColor3f(0,1,0)\n",
        "\n",
        "\n",
        "\n",
        "def findzone(x1,y1,x2,y2):\n",
        "  Zone=0\n",
        "\n",
        "  dx=x2-x1\n",
        "  dy=y2-y1\n",
        "\n",
        "  if abs(dx)<=abs(dy):\n",
        "    if dx>0 and dy>0:\n",
        "      Zone=1\n",
        "    elif dx<0 and dy>0:\n",
        "      Zone=2\n",
        "    elif dx<0 and dy<0:\n",
        "      Zone=5\n",
        "    elif dx>0 and dy<0:\n",
        "      Zone=6\n",
        "\n",
        "  else:\n",
        "    if dx>0 and dy>0:\n",
        "      Zone=0\n",
        "    elif dx<0 and dy>0:\n",
        "      Zone=3\n",
        "    elif dx<0 and dy<0:\n",
        "      Zone=4\n",
        "    elif dx>0 and dy<0:\n",
        "      Zone=7\n",
        "\n",
        "  return Zone\n",
        "\n",
        "\n",
        "\n",
        "def convertzone0(x,y,temp):\n",
        "\n",
        "  a,b=0,0\n",
        "  if temp== 0:\n",
        "    a,b=x,y\n",
        "  elif temp== 1:\n",
        "    a,b=y,x\n",
        "  elif temp== 2:\n",
        "    a,b=y,-x\n",
        "  elif temp== 3:\n",
        "    a,b=-x,y\n",
        "  elif temp== 4:\n",
        "    a,b=-x,-y\n",
        "  elif temp== 5:\n",
        "    a,b=-y,-x\n",
        "  elif temp== 6:\n",
        "    a,b=-y,x\n",
        "  elif temp== 7:\n",
        "    a,b=x,-y\n",
        "\n",
        "  return a,b\n",
        "\n",
        "\n",
        "\n",
        "def convert_to_original(x,y,temp):\n",
        "\n",
        "  g,h=0,0\n",
        "\n",
        "  if temp== 0:\n",
        "    g,h=x,y\n",
        "  elif temp== 1:\n",
        "    g,h=y,x\n",
        "  elif temp== 2:\n",
        "    g,h=-y,x\n",
        "  elif temp== 3:\n",
        "    g,h=-x,y\n",
        "  elif temp== 4:\n",
        "    g,h=-x,-y\n",
        "  elif temp== 5:\n",
        "    g,h=-y,-x\n",
        "  elif temp== 6:\n",
        "    g,h=-y,x\n",
        "  elif temp== 7:\n",
        "    g,h=x,-y\n",
        "\n",
        "  return g,h\n",
        "\n",
        "\n",
        "def DrawLine(x1,y1,x2,y2):\n",
        "  temp=findzone(x1,y1,x2,y2)\n",
        "  \n",
        "  p,q=convertzone0(x1,y1,temp)\n",
        "  m,n=convertzone0(x2,y2,temp)\n",
        "  \n",
        "  dx = m-p\n",
        "  dy = n-q\n",
        "\n",
        "  d=2*dy-dx\n",
        "\n",
        "  incE=2*dy\n",
        "  incNE = 2 * (dy - dx)\n",
        "\n",
        "  y = q\n",
        "  x = p\n",
        "\n",
        "  if dx==0:\n",
        "    \n",
        "    while y<=y2:\n",
        "      c,d=convert_to_original(x,y,temp)\n",
        "\n",
        "      gl.glBegin(gl.GL_POINTS)\n",
        "      gl.glVertex2f(c,d)\n",
        "      gl.glEnd()\n",
        "\n",
        "      y+=0.0001\n",
        "\n",
        "  while x<=x2:\n",
        "    r,t=convert_to_original(x,y,temp)\n",
        "\n",
        "    gl.glBegin(gl.GL_POINTS)\n",
        "    gl.glVertex2f(r,t)\n",
        "    gl.glEnd()\n",
        "\n",
        "    if d>0:\n",
        "      d+=incNE\n",
        "      y+=0.0001\n",
        "    else:\n",
        "      d+=incE\n",
        "\n",
        "    x+=0.0001"
      ],
      "metadata": {
        "id": "ANi7Wf-hbL9Y"
      },
      "execution_count": null,
      "outputs": []
    },
    {
      "cell_type": "code",
      "source": [
        "x=input(\"Enter student_ID: \")\n",
        "last_two_digits= x[-1:-3:-1]\n",
        "dig=last_two_digits[::-1]\n",
        "\n",
        "\n",
        "def Zero(tik):\n",
        "    DrawLine(tik+-0.8,-0.6,tik+-0.8,0.6)\n",
        "    DrawLine(tik+-0.8,-0.6,tik+-0.3,-0.6)\n",
        "    DrawLine(tik+-0.8,0.6,tik+-0.3,0.6)\n",
        "    DrawLine(tik+-0.3,-0.6,tik+-0.3,0.6)\n",
        "\n",
        "def One(tik):\n",
        "    DrawLine(tik+-0.55,-0.6,tik+-0.55,0.6)\n",
        "    DrawLine(tik+-0.8,0.4,tik+-0.55,0.6)\n",
        "    DrawLine(tik+-0.8,-0.6,tik+-0.3,-0.6)\n",
        "  \n",
        "def Two(tik):\n",
        "    DrawLine(tik+-0.8,0.6,tik+-0.3,0.6)\n",
        "    DrawLine(tik+-0.8,-0.6,tik+-0.8,0.1)\n",
        "    DrawLine(tik+-0.8,-0.6,tik+-0.3,-0.6)\n",
        "    DrawLine(tik+-0.3,0.1,tik+-0.3,0.6)\n",
        "    DrawLine(tik+-0.8,0.1,tik+-0.3,0.1)\n",
        "\n",
        "def Three(tik):\n",
        "    DrawLine(tik+-0.8,0.6,tik+-0.3,0.6)\n",
        "    DrawLine(tik+-0.8,0.1,tik+-0.3,0.1)\n",
        "    DrawLine(tik+-0.8,-0.6,tik+-0.3,-0.6)\n",
        "    DrawLine(tik+-0.3,-0.6,tik+-0.3,0.6)\n",
        "\n",
        "def Four(tik):\n",
        "    DrawLine(tik+-0.8,0.1,tik+-0.3,0.1)\n",
        "    DrawLine(tik+-0.3,-0.6,tik+-0.3,0.6)\n",
        "    DrawLine(tik+-0.8,0.1,tik+-0.8,0.6)\n",
        "    \n",
        "def Five(tik):\n",
        "    DrawLine(tik+-0.3,-0.6,tik+-0.3,0.1)\n",
        "    DrawLine(tik+-0.8,-0.6,tik+-0.3,-0.6)\n",
        "    DrawLine(tik+-0.8,0.6,tik+-0.3,0.6)\n",
        "    DrawLine(tik+-0.8,0.1,tik+-0.8,0.6)\n",
        "    DrawLine(tik+-0.8,0.1,tik+-0.3,0.1)\n",
        "    \n",
        "def Six(tik):\n",
        "    DrawLine(tik+-0.8,-0.6,tik+-0.8,0.6)\n",
        "    DrawLine(tik+-0.3,-0.6,tik+-0.3,0.1)\n",
        "    DrawLine(tik+-0.8,-0.6,tik+-0.3,-0.6)\n",
        "    DrawLine(tik+-0.8,0.6,tik+-0.3,0.6)\n",
        "    DrawLine(tik+-0.8,0.1,tik+-0.3,0.1)\n",
        "\n",
        "def Seven(tik):\n",
        "    DrawLine(tik+-0.8,0.6,tik+-0.3,0.6)\n",
        "    DrawLine(tik+-0.3,-0.6,tik+-0.3,0.6)\n",
        "\n",
        "def Eight(tik):\n",
        "    DrawLine(tik+-0.8,0.1,tik+-0.3,0.1)\n",
        "    DrawLine(tik+-0.8,-0.6,tik+-0.3,-0.6)\n",
        "    DrawLine(tik+-0.8,0.6,tik+-0.3,0.6)\n",
        "    DrawLine(tik+-0.8,-0.6,tik+-0.8,0.6)\n",
        "    DrawLine(tik+-0.3,-0.6,tik+-0.3,0.6)\n",
        "\n",
        "def Nine(tik):\n",
        "    DrawLine(tik+-0.8,0.1,tik+-0.3,0.1)\n",
        "    DrawLine(tik+-0.3,-0.6,tik+-0.3,0.6)\n",
        "    DrawLine(tik+-0.8,0.6,tik+-0.3,0.6)\n",
        "    DrawLine(tik+-0.8,0.1,tik+-0.8,0.6)"
      ],
      "metadata": {
        "id": "6GZBc8f1zFzS",
        "colab": {
          "base_uri": "https://localhost:8080/"
        },
        "outputId": "6b7e72cf-2515-4034-bfe6-f999c3921d7c"
      },
      "execution_count": null,
      "outputs": [
        {
          "name": "stdout",
          "output_type": "stream",
          "text": [
            "Enter student_ID: 20101194\n"
          ]
        }
      ]
    },
    {
      "cell_type": "code",
      "source": [
        "def Display(digits): \n",
        "   \n",
        "   i=0\n",
        "\n",
        "   while i<=1:\n",
        "    \n",
        "    if digits[i]==\"0\":\n",
        "          Zero(i)\n",
        "    elif digits[i]==\"1\":\n",
        "          One(i)\n",
        "    elif digits[i]==\"2\":\n",
        "          Two(i)\n",
        "    elif digits[i]==\"3\":\n",
        "          Three(i)\n",
        "    elif digits[i]==\"4\":\n",
        "          Four(i)\n",
        "    elif digits[i]==\"5\":\n",
        "          Five(i)\n",
        "    elif digits[i]==\"6\":\n",
        "          Six(i)\n",
        "    elif digits[i]==\"7\":\n",
        "          Seven(i)\n",
        "    elif digits[i]==\"8\":\n",
        "          Eight(i)\n",
        "    else:\n",
        "          Nine(i)\n",
        "\n",
        "    i+=1\n",
        "\n",
        "Display(dig)\n",
        "\n",
        "img_buf = gl.glReadPixelsub(0, 0, WIDTH, HEIGHT, gl.GL_RGB, gl.GL_UNSIGNED_BYTE)\n",
        "img = np.frombuffer(img_buf, np.uint8).reshape(HEIGHT, WIDTH, 3)[::-1]\n",
        "show.image(img/255.0)"
      ],
      "metadata": {
        "id": "832GulXszFrT",
        "colab": {
          "base_uri": "https://localhost:8080/",
          "height": 421
        },
        "outputId": "c8a6bb64-5a11-4aae-a456-dd7afcbbe795"
      },
      "execution_count": null,
      "outputs": [
        {
          "output_type": "display_data",
          "data": {
            "text/plain": [
              "<IPython.core.display.HTML object>"
            ],
            "text/html": [
              "<img src=\"data:image/PNG;base64,iVBORw0KGgoAAAANSUhEUgAAAZAAAAGQCAIAAAAP3aGbAAAEJklEQVR4nO3ZUQrDIBQAQVNy/yun3yUIgYKyYeYCPlQWwTEAAAAAAAAAAAAAAAAAAAAAAAAAAAAAAAAAAAAAAAAAAAAAAAAAAAAAAAAAAAAAAAAAAAAAAAAAAAAAAAAAAAAAAAAAAAAAAAAAAAAAAAAAAAAAAAAAAAAAAGCxY/WC1+oFX2X5cWXc75W9minv1Wf3AABPCRaQIVhAhmABGYIFZJy7Byj9UKzmRxV+eWEBGYIFZAgWkCFYQIZgARmCBWQIFpAhWECGYAEZggVkCBaQIVhAhmABGYIFZAgWkCFYQIZgARmCBWQIFpAhWECGYAEZggVkCBaQIVhAhmABGYIFZAgWkCFYQIZgARmCBWQIFpAhWECGYAEZggVkCBaQIVhAhmABGYIFZAgWkCFYQIZgARmCBWQIFpAhWECGYAEZggVkCBaQIVhAhmABGYIFZAgWkCFYQIZgARmCBWQIFpAhWECGYAEZggVkCBaQIVhAhmABGYIFZAgWkCFYQIZgARmCBWQIFpAhWECGYAEZggVkCBaQIVhAhmABGYIFZAgWkCFYQIZgARmCBWQIFpAhWECGYAEZggVkCBaQIVhAhmABGYIFZAgWkCFYQIZgARmCBWQIFpAhWECGYAEZ5+4Bxrh2D8AruVdv5IUFZAgWkCFYQIZgARmCBWQcuwdg7v7P5bj4X/leeWEBGYIFZAgWkCFYQIZgARmCBWQIFpAhWECGYAEZggVkCBaQIVhAhmABGYIFZAgWkCFYQIZgARmCBWQIFpAhWECGYAEZggVkCBaQIVhAhmABGYIFZAgWkCFYQIZgARmCBWQIFpAhWECGYAEZggVkCBaQIVhAhmABGYIFZAgWkCFYQIZgARmCBWQIFpAhWECGYAEZggVkCBaQIVhAhmABGYIFZAgWkCFYQIZgARmCBWQIFpAhWECGYAEZggVkCBaQIVhAhmABGYIFZAgWkCFYQIZgARmCBWQIFpAhWECGYAEZggVkCBaQIVhAhmABGYIFZAgWkCFYQIZgARmCBWQIFpAhWECGYAEZggVkCBaQIVhAhmABGYIFZAgWkCFYQIZgARmCBWQIFpAhWECGYAEZggVkCBaQIVhAhmABGYIFZAgWkCFYQIZgARmCBWQIFpAhWECGYAEZggVkCBaQIVhAhmABGYIFZAgWkCFYQIZgARmCBWQIFpAhWECGYAEZggVkCBaQIVhAhmABGYIFZAgWkCFYQIZgARmCBWQIFpAhWECGYAEZggVkCBaQIVhAhmABGYIFZAgWkCFYQIZgARmCBWQIFgAAAAAAAAAAAAAAAAAAAAAAAAAAAAAAAAAAAAAAAAAAAAAAAAAAAAAAAAAAAAAAAAAAAAAAAAAAAAAAAAAAAAAAAAAAAAAAAAAAAAAAAAAAAAAAAAAAAAAAAMx8AWvrCe1rmj/NAAAAAElFTkSuQmCC\" style=\"image-rendering: pixelated; image-rendering: crisp-edges;\">"
            ]
          },
          "metadata": {}
        }
      ]
    }
  ]
}